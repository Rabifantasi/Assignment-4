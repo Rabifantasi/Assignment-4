{
  "nbformat": 4,
  "nbformat_minor": 0,
  "metadata": {
    "colab": {
      "provenance": [],
      "authorship_tag": "ABX9TyO7BPT2iMyOJRH3HD0Q3uCh",
      "include_colab_link": true
    },
    "kernelspec": {
      "name": "python3",
      "display_name": "Python 3"
    },
    "language_info": {
      "name": "python"
    }
  },
  "cells": [
    {
      "cell_type": "markdown",
      "metadata": {
        "id": "view-in-github",
        "colab_type": "text"
      },
      "source": [
        "<a href=\"https://colab.research.google.com/github/Rabifantasi/Assignment-4/blob/main/01_expressions_04_pythagorean_theorem_md.ipynb\" target=\"_parent\"><img src=\"https://colab.research.google.com/assets/colab-badge.svg\" alt=\"Open In Colab\"/></a>"
      ]
    },
    {
      "cell_type": "code",
      "execution_count": null,
      "metadata": {
        "id": "foFoRPIBitdE"
      },
      "outputs": [],
      "source": [
        "import math\n",
        "\n",
        "ab = float(input(\"Enter the length of AB: \"))\n",
        "ac = float(input(\"Enter the length of AC: \"))\n",
        "\n",
        "bc = math.sqrt(ab**2 + ac**2)\n",
        "\n",
        "print(f\"The length of BC (the hypotenuse) is: {bc}\")\n"
      ]
    }
  ]
}