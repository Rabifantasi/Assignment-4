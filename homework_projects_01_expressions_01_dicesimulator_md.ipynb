{
  "nbformat": 4,
  "nbformat_minor": 0,
  "metadata": {
    "colab": {
      "provenance": [],
      "authorship_tag": "ABX9TyPduznGK1e/LBFXpoqGY+pa",
      "include_colab_link": true
    },
    "kernelspec": {
      "name": "python3",
      "display_name": "Python 3"
    },
    "language_info": {
      "name": "python"
    }
  },
  "cells": [
    {
      "cell_type": "markdown",
      "metadata": {
        "id": "view-in-github",
        "colab_type": "text"
      },
      "source": [
        "<a href=\"https://colab.research.google.com/github/Rabifantasi/Assignment-4/blob/main/01_expressions_01_dicesimulator_md.ipynb\" target=\"_parent\"><img src=\"https://colab.research.google.com/assets/colab-badge.svg\" alt=\"Open In Colab\"/></a>"
      ]
    },
    {
      "cell_type": "code",
      "execution_count": null,
      "metadata": {
        "id": "YXjs5pmahvMC"
      },
      "outputs": [],
      "source": [
        "import random\n",
        "\n",
        "def roll_dice():\n",
        "    return random.randint(1, 6)\n",
        "\n",
        "def main():\n",
        "    for i in range(1, 4):\n",
        "        die1 = roll_dice()\n",
        "        die2 = roll_dice()\n",
        "        print(f\"Roll {i}: Die 1 = {die1}, Die 2 = {die2}\")\n",
        "\n",
        "main()"
      ]
    }
  ]
}
