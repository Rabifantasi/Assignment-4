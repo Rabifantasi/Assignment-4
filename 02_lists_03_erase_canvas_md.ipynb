{
  "nbformat": 4,
  "nbformat_minor": 0,
  "metadata": {
    "colab": {
      "provenance": [],
      "authorship_tag": "ABX9TyPQUBbohY1yO/RW0O/b49Fq",
      "include_colab_link": true
    },
    "kernelspec": {
      "name": "python3",
      "display_name": "Python 3"
    },
    "language_info": {
      "name": "python"
    }
  },
  "cells": [
    {
      "cell_type": "markdown",
      "metadata": {
        "id": "view-in-github",
        "colab_type": "text"
      },
      "source": [
        "<a href=\"https://colab.research.google.com/github/Rabifantasi/Assignment-4/blob/main/02_lists_03_erase_canvas_md.ipynb\" target=\"_parent\"><img src=\"https://colab.research.google.com/assets/colab-badge.svg\" alt=\"Open In Colab\"/></a>"
      ]
    },
    {
      "cell_type": "code",
      "execution_count": null,
      "metadata": {
        "id": "Fv2NKkeQk7aS"
      },
      "outputs": [],
      "source": [
        "import tkinter as tk\n",
        "\n",
        "class EraserCanvas:\n",
        "    def __init__(self, root):\n",
        "        self.root = root\n",
        "        self.canvas = tk.Canvas(root, width=500, height=500, bg=\"white\")\n",
        "        self.canvas.pack()\n",
        "\n",
        "        self.cell_size = 50\n",
        "        self.rows = self.cols = 10\n",
        "        self.cells = {}\n",
        "\n",
        "        self.create_grid()\n",
        "        self.eraser = self.canvas.create_rectangle(0, 0, 50, 50, outline=\"black\", width=2)\n",
        "\n",
        "        self.canvas.bind(\"<B1-Motion>\", self.erase)\n",
        "\n",
        "    def create_grid(self):\n",
        "        for row in range(self.rows):\n",
        "            for col in range(self.cols):\n",
        "                x1, y1 = col * self.cell_size, row * self.cell_size\n",
        "                x2, y2 = x1 + self.cell_size, y1 + self.cell_size\n",
        "                rect = self.canvas.create_rectangle(x1, y1_\n"
      ]
    }
  ]
}