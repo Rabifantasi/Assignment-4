{
  "nbformat": 4,
  "nbformat_minor": 0,
  "metadata": {
    "colab": {
      "provenance": [],
      "authorship_tag": "ABX9TyM6u4VnTk0RKFvShKfCziKe",
      "include_colab_link": true
    },
    "kernelspec": {
      "name": "python3",
      "display_name": "Python 3"
    },
    "language_info": {
      "name": "python"
    }
  },
  "cells": [
    {
      "cell_type": "markdown",
      "metadata": {
        "id": "view-in-github",
        "colab_type": "text"
      },
      "source": [
        "<a href=\"https://colab.research.google.com/github/Rabifantasi/Assignment-4/blob/main/00_intro_python_02_agreement_bot_md.ipynb\" target=\"_parent\"><img src=\"https://colab.research.google.com/assets/colab-badge.svg\" alt=\"Open In Colab\"/></a>"
      ]
    },
    {
      "cell_type": "code",
      "source": [
        "animal = input(\"What is your favorite animal? \")\n",
        "print(\"My favorite animal is also\", animal + \"!\")\n",
        "\n",
        "# Example input: \"Tiger\"\n",
        "# Example output: \"My favorite animal is also Tiger!\""
      ],
      "metadata": {
        "id": "syk4PPa8fvRv"
      },
      "execution_count": null,
      "outputs": []
    }
  ]
}
