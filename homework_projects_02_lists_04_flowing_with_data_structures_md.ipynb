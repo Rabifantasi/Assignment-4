{
  "nbformat": 4,
  "nbformat_minor": 0,
  "metadata": {
    "colab": {
      "provenance": [],
      "authorship_tag": "ABX9TyMX6Vi1In1LqZRRLBRz69Di",
      "include_colab_link": true
    },
    "kernelspec": {
      "name": "python3",
      "display_name": "Python 3"
    },
    "language_info": {
      "name": "python"
    }
  },
  "cells": [
    {
      "cell_type": "markdown",
      "metadata": {
        "id": "view-in-github",
        "colab_type": "text"
      },
      "source": [
        "<a href=\"https://colab.research.google.com/github/Rabifantasi/Assignment-4/blob/main/02_lists_04_flowing_with_data_structures_md.ipynb\" target=\"_parent\"><img src=\"https://colab.research.google.com/assets/colab-badge.svg\" alt=\"Open In Colab\"/></a>"
      ]
    },
    {
      "cell_type": "code",
      "execution_count": null,
      "metadata": {
        "id": "4FeX_h5mlS5K"
      },
      "outputs": [],
      "source": [
        "def add_three_copies(lst, data):\n",
        "    lst.append(data)\n",
        "    lst.append(data)\n",
        "    lst.append(data)\n",
        "\n",
        "message = input(\"Enter a message to copy: \")\n",
        "\n",
        "my_list = []\n",
        "\n",
        "print(\"List before:\", my_list)\n",
        "\n",
        "add_three_copies(my_list, message)\n",
        "\n",
        "print(\"List after:\", my_list)\n"
      ]
    }
  ]
}
