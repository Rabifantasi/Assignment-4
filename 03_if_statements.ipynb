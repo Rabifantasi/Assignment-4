{
  "nbformat": 4,
  "nbformat_minor": 0,
  "metadata": {
    "colab": {
      "provenance": [],
      "authorship_tag": "ABX9TyPeAcm71CoSWQ3DES0hNZCu",
      "include_colab_link": true
    },
    "kernelspec": {
      "name": "python3",
      "display_name": "Python 3"
    },
    "language_info": {
      "name": "python"
    }
  },
  "cells": [
    {
      "cell_type": "markdown",
      "metadata": {
        "id": "view-in-github",
        "colab_type": "text"
      },
      "source": [
        "<a href=\"https://colab.research.google.com/github/Rabifantasi/Assignment-4/blob/main/03_if_statements.ipynb\" target=\"_parent\"><img src=\"https://colab.research.google.com/assets/colab-badge.svg\" alt=\"Open In Colab\"/></a>"
      ]
    },
    {
      "cell_type": "code",
      "execution_count": null,
      "metadata": {
        "id": "KwIRv91dAKle"
      },
      "outputs": [],
      "source": [
        "# 01_print_events.md\n",
        "\n",
        "for i in range(20):\n",
        "    print(i * 2, end=\" \")"
      ]
    },
    {
      "cell_type": "code",
      "source": [
        "# 02_international_voting_age.md\n",
        "\n",
        "age = int(input(\"How old are you? \"))\n",
        "\n",
        "if age >= 16:\n",
        "    print(\"You can vote in Peturksbouipo where the voting age is 16.\")\n",
        "else:\n",
        "    print(\"You cannot vote in Peturksbouipo where the voting age is 16.\")\n",
        "\n",
        "if age >= 25:\n",
        "    print(\"You can vote in Stanlau where the voting age is 25.\")\n",
        "else:\n",
        "    print(\"You cannot vote in Stanlau where the voting age is 25.\")\n",
        "\n",
        "if age >= 48:\n",
        "    print(\"You can vote in Mayengua where the voting age is 48.\")\n",
        "else:\n",
        "    print(\"You cannot vote in Mayengua where the voting age is 48.\")\n"
      ],
      "metadata": {
        "id": "Q2ILO6cOAWRZ"
      },
      "execution_count": null,
      "outputs": []
    },
    {
      "cell_type": "code",
      "source": [
        "# 03_leap_year.md\n",
        "\n",
        "year = int(input(\"Enter a year: \"))\n",
        "\n",
        "if (year % 4 == 0 and year % 100 != 0) or (year % 400 == 0):\n",
        "    print(\"That's a leap year!\")\n",
        "else:\n",
        "    print(\"That's not a leap year.\")\n"
      ],
      "metadata": {
        "id": "D_dNnXPNAiSv"
      },
      "execution_count": null,
      "outputs": []
    },
    {
      "cell_type": "code",
      "source": [
        "# 04_tall_enough_to_ride.md\n",
        "\n",
        "height = int(input(\"How tall are you? \"))\n",
        "\n",
        "if height >= 50:\n",
        "    print(\"You're tall enough to ride!\")\n",
        "else:\n",
        "    print(\"You're not tall enough to ride, but maybe next year!\")"
      ],
      "metadata": {
        "id": "5ZBz4gw5Anf8"
      },
      "execution_count": null,
      "outputs": []
    },
    {
      "cell_type": "code",
      "source": [
        "# 05_random_numbers.md\n",
        "\n",
        "import random\n",
        "\n",
        "for _ in range(10):\n",
        "    print(random.randint(1, 100), end=\" \")\n"
      ],
      "metadata": {
        "id": "-825NzJTAwED"
      },
      "execution_count": null,
      "outputs": []
    }
  ]
}