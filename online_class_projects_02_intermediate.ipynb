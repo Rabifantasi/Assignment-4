{
  "nbformat": 4,
  "nbformat_minor": 0,
  "metadata": {
    "colab": {
      "provenance": [],
      "authorship_tag": "ABX9TyMhsZqUwSvLjOPAWSs39D9S",
      "include_colab_link": true
    },
    "kernelspec": {
      "name": "python3",
      "display_name": "Python 3"
    },
    "language_info": {
      "name": "python"
    }
  },
  "cells": [
    {
      "cell_type": "markdown",
      "metadata": {
        "id": "view-in-github",
        "colab_type": "text"
      },
      "source": [
        "<a href=\"https://colab.research.google.com/github/Rabifantasi/Assignment-4/blob/main/online_class_projects_02_intermediate.ipynb\" target=\"_parent\"><img src=\"https://colab.research.google.com/assets/colab-badge.svg\" alt=\"Open In Colab\"/></a>"
      ]
    },
    {
      "cell_type": "code",
      "execution_count": null,
      "metadata": {
        "id": "4P77sihey9am"
      },
      "outputs": [],
      "source": [
        "# Control Flow for Console\n",
        "\n",
        "import random\n",
        "\n",
        "def high_low_game(rounds):\n",
        "    score = 0\n",
        "\n",
        "    for _ in range(rounds):\n",
        "        user_number = random.randint(1, 100)\n",
        "        computer_number = random.randint(1, 100)\n",
        "\n",
        "        print(f\"\\nYour number: {user_number}\")\n",
        "        guess = input(\"Do you think your number is higher or lower than the computer's? (higher/lower): \").strip().lower()\n",
        "\n",
        "        if (guess == \"higher\" and user_number > computer_number) or (guess == \"lower\" and user_number < computer_number):\n",
        "            print(f\"Correct! Computer's number was {computer_number}. You get a point!\")\n",
        "            score += 1\n",
        "        else:\n",
        "            print(f\"Wrong! Computer's number was {computer_number}. No points this round.\")\n",
        "\n",
        "    print(f\"\\nGame over! Your final score: {score}/{rounds}\")\n",
        "\n",
        "# Start the game with a user-defined number of rounds\n",
        "rounds = int(input(\"How many rounds do you want to play? \"))\n",
        "high_low_game(rounds)\n"
      ]
    },
    {
      "cell_type": "code",
      "source": [
        "# Intro to Python\n",
        "\n",
        "def mars_weight():\n",
        "    earth_weight = float(input(\"Enter your weight on Earth (kg): \"))\n",
        "    mars_weight = round(earth_weight * 0.378, 2)\n",
        "    print(f\"Your weight on Mars would be: {mars_weight} kg\")\n",
        "\n",
        "mars_weight()"
      ],
      "metadata": {
        "id": "BcwNFP0Ozg6S"
      },
      "execution_count": null,
      "outputs": []
    },
    {
      "cell_type": "code",
      "source": [
        "# Lists and Dicts\n",
        "\n",
        "#  Problem #1: List Practice\n",
        "\n",
        "def list_practice():\n",
        "    # Create a list of fruits\n",
        "    fruit_list = ['apple', 'banana', 'orange', 'grape', 'pineapple']\n",
        "\n",
        "    # Print the length of the list\n",
        "    print(\"Length of fruit list:\", len(fruit_list))\n",
        "\n",
        "    # Add 'mango' at the end of the list\n",
        "    fruit_list.append('mango')\n",
        "\n",
        "    # Print the updated list\n",
        "    print(\"Updated fruit list:\", fruit_list)\n",
        "\n",
        "\n",
        "# Problem #2: Index Game\n",
        "\n",
        "\n",
        "def access_element(lst, index):\n",
        "    \"\"\" Returns the element at the specified index, or an error message if out of range. \"\"\"\n",
        "    if 0 <= index < len(lst):\n",
        "        return lst[index]\n",
        "    else:\n",
        "        return \"Index out of range!\"\n",
        "\n",
        "\n",
        "def modify_element(lst, index, new_value):\n",
        "    \"\"\" Replaces the element at the specified index, or returns an error message if out of range. \"\"\"\n",
        "    if 0 <= index < len(lst):\n",
        "        lst[index] = new_value\n",
        "        return f\"Updated list: {lst}\"\n",
        "    else:\n",
        "        return \"Index out of range!\"\n",
        "\n",
        "\n",
        "def slice_list(lst, start, end):\n",
        "    \"\"\" Returns a sliced portion of the list, handling out-of-range indices. \"\"\"\n",
        "    if 0 <= start < len(lst) and 0 < end <= len(lst) and start < end:\n",
        "        return lst[start:end]\n",
        "    else:\n",
        "        return \"Invalid index range!\"\n",
        "\n",
        "\n",
        "def index_game():\n",
        "    my_list = ['red', 'blue', 'green', 'yellow', 'purple']\n",
        "\n",
        "    while True:\n",
        "        print(\"\\nChoose an operation:\")\n",
        "        print(\"1. Access an element\")\n",
        "        print(\"2. Modify an element\")\n",
        "        print(\"3. Slice the list\")\n",
        "        print(\"4. Exit\")\n",
        "\n",
        "        choice = input(\"Enter your choice (1-4): \")\n",
        "\n",
        "        if choice == \"1\":\n",
        "            idx = int(input(\"Enter index to access: \"))\n",
        "            print(\"Result:\", access_element(my_list, idx))\n",
        "\n",
        "        elif choice == \"2\":\n",
        "            idx = int(input(\"Enter index to modify: \"))\n",
        "            new_val = input(\"Enter new value: \")\n",
        "            print(modify_element(my_list, idx, new_val))\n",
        "\n",
        "        elif choice == \"3\":\n",
        "            start = int(input(\"Enter start index: \"))\n",
        "            end = int(input(\"Enter end index: \"))\n",
        "            print(\"Sliced list:\", slice_list(my_list, start, end))\n",
        "\n",
        "        elif choice == \"4\":\n",
        "            print(\"Exiting game. Goodbye!\")\n",
        "            break\n",
        "\n",
        "        else:\n",
        "            print(\"Invalid choice! Please enter a number from 1 to 4.\")\n",
        "\n",
        "\n",
        "list_practice()\n",
        "index_game()\n"
      ],
      "metadata": {
        "id": "DXzDdQqBzqOu"
      },
      "execution_count": null,
      "outputs": []
    }
  ]
}