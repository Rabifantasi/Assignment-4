{
  "nbformat": 4,
  "nbformat_minor": 0,
  "metadata": {
    "colab": {
      "provenance": [],
      "authorship_tag": "ABX9TyP3anFoI5av3hfoIcZWpHQe",
      "include_colab_link": true
    },
    "kernelspec": {
      "name": "python3",
      "display_name": "Python 3"
    },
    "language_info": {
      "name": "python"
    }
  },
  "cells": [
    {
      "cell_type": "markdown",
      "metadata": {
        "id": "view-in-github",
        "colab_type": "text"
      },
      "source": [
        "<a href=\"https://colab.research.google.com/github/Rabifantasi/Assignment-4/blob/main/05_loops_control_flow.ipynb\" target=\"_parent\"><img src=\"https://colab.research.google.com/assets/colab-badge.svg\" alt=\"Open In Colab\"/></a>"
      ]
    },
    {
      "cell_type": "code",
      "execution_count": null,
      "metadata": {
        "id": "SQsWtjHZrfNK"
      },
      "outputs": [],
      "source": [
        "# 00_guess_my_number.md\n",
        "\n",
        "import random\n",
        "\n",
        "\n",
        "secret_number = random.randint(0, 99)\n",
        "\n",
        "print(\"I am thinking of a number between 0 and 99...\")\n",
        "\n",
        "while True:\n",
        "    guess = input(\"Enter a guess: \")\n",
        "\n",
        "    if not guess.isdigit():\n",
        "        print(\"Please enter a valid number.\")\n",
        "        continue\n",
        "\n",
        "    guess = int(guess)\n",
        "\n",
        "    if guess > secret_number:\n",
        "        print(\"Your guess is too high\")\n",
        "    elif guess < secret_number:\n",
        "        print(\"Your guess is too low\")\n",
        "    else:\n",
        "        print(f\"Congrats! The number was: {secret_number}\")\n",
        "        break\n"
      ]
    },
    {
      "cell_type": "code",
      "source": [
        "# 01_fibonacci.md\n",
        "\n",
        "# Define the maximum value constant\n",
        "MAX_VALUE = 10000\n",
        "\n",
        "# Initialize the first two Fibonacci numbers\n",
        "a, b = 0, 1\n",
        "\n",
        "# Print the Fibonacci sequence\n",
        "while a < MAX_VALUE:\n",
        "    print(a, end=\" \")  # Print the current number\n",
        "    a, b = b, a + b    # Move to the next numbers in the sequence\n"
      ],
      "metadata": {
        "id": "0Q6IwPGBrxN9"
      },
      "execution_count": null,
      "outputs": []
    },
    {
      "cell_type": "code",
      "source": [
        "# 02_print_events.md\n",
        "\n",
        "# Print the first 20 even numbers\n",
        "for i in range(20):\n",
        "    print(i * 2, end=\" \")\n"
      ],
      "metadata": {
        "id": "RH_EmTlRr5FX"
      },
      "execution_count": null,
      "outputs": []
    },
    {
      "cell_type": "code",
      "source": [
        "# 03_wholesome_machine.md\n",
        "\n",
        "# The correct affirmation\n",
        "affirmation = \"I am capable of doing anything I put my mind to.\"\n",
        "\n",
        "while True:\n",
        "    user_input = input(\"Please type the following affirmation:\\n\")\n",
        "\n",
        "    if user_input == affirmation:\n",
        "        print(\"That's right! :)\")\n",
        "        break  # Exit the loop when the affirmation is correct\n",
        "    else:\n",
        "        print(\"Hmmm, that was not the affirmation. Try again!\")\n"
      ],
      "metadata": {
        "id": "lMESgbeir_xI"
      },
      "execution_count": null,
      "outputs": []
    },
    {
      "cell_type": "code",
      "source": [
        "# 04_liftoff.md\n",
        "\n",
        "for i in range(10, 0, -1):\n",
        "    print(i, end=\" \")\n",
        "print(\"Liftoff!\")"
      ],
      "metadata": {
        "id": "lRpFVktosLCX"
      },
      "execution_count": null,
      "outputs": []
    },
    {
      "cell_type": "code",
      "source": [
        "# 05_double_it.md\n",
        "\n",
        "curr_value = int(input(\"Enter a number: \"))\n",
        "\n",
        "while curr_value < 100:\n",
        "    curr_value *= 2\n",
        "    print(curr_value, end=\" \")\n"
      ],
      "metadata": {
        "id": "i6xi4ARUsYAn"
      },
      "execution_count": null,
      "outputs": []
    }
  ]
}