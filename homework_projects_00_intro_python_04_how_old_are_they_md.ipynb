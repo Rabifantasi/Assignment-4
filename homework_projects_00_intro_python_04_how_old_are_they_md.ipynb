{
  "nbformat": 4,
  "nbformat_minor": 0,
  "metadata": {
    "colab": {
      "provenance": [],
      "authorship_tag": "ABX9TyNOP/2ZiKd7cXfqq3QttXDG",
      "include_colab_link": true
    },
    "kernelspec": {
      "name": "python3",
      "display_name": "Python 3"
    },
    "language_info": {
      "name": "python"
    }
  },
  "cells": [
    {
      "cell_type": "markdown",
      "metadata": {
        "id": "view-in-github",
        "colab_type": "text"
      },
      "source": [
        "<a href=\"https://colab.research.google.com/github/Rabifantasi/Assignment-4/blob/main/00_intro_python_04_how_old_are_they_md.ipynb\" target=\"_parent\"><img src=\"https://colab.research.google.com/assets/colab-badge.svg\" alt=\"Open In Colab\"/></a>"
      ]
    },
    {
      "cell_type": "code",
      "execution_count": null,
      "metadata": {
        "id": "Z2Hqu0Emgb0-"
      },
      "outputs": [],
      "source": [
        "Anton = 21\n",
        "Beth = Anton + 6\n",
        "Chen = Beth + 20\n",
        "Drew = Chen + Anton\n",
        "Ethan = Chen\n",
        "\n",
        "print(\"Anton is\", Anton)\n",
        "print(\"Beth is\", Beth)\n",
        "print(\"Chen is\", Chen)\n",
        "print(\"Drew is\", Drew)\n",
        "print(\"Ethan is\", Ethan)"
      ]
    }
  ]
}
