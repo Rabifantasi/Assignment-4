{
  "nbformat": 4,
  "nbformat_minor": 0,
  "metadata": {
    "colab": {
      "provenance": [],
      "authorship_tag": "ABX9TyNXDvzrIfYn2fjCxes7Td5I",
      "include_colab_link": true
    },
    "kernelspec": {
      "name": "python3",
      "display_name": "Python 3"
    },
    "language_info": {
      "name": "python"
    }
  },
  "cells": [
    {
      "cell_type": "markdown",
      "metadata": {
        "id": "view-in-github",
        "colab_type": "text"
      },
      "source": [
        "<a href=\"https://colab.research.google.com/github/Rabifantasi/Assignment-4/blob/main/06_functions.ipynb\" target=\"_parent\"><img src=\"https://colab.research.google.com/assets/colab-badge.svg\" alt=\"Open In Colab\"/></a>"
      ]
    },
    {
      "cell_type": "code",
      "execution_count": null,
      "metadata": {
        "id": "a-redC44srdo"
      },
      "outputs": [],
      "source": [
        "# 00_averages.md\n",
        "\n",
        "def average(num1, num2):\n",
        "    return (num1 + num2) / 2\n",
        "\n",
        "num1 = float(input(\"Enter first number: \"))\n",
        "num2 = float(input(\"Enter second number: \"))\n",
        "\n",
        "print(\"Average:\", average(num1, num2))\n"
      ]
    },
    {
      "cell_type": "code",
      "source": [
        "# 01_chaotic_counting.md\n",
        "\n",
        "import random\n",
        "\n",
        "DONE_LIKELIHOOD = 0.3  # Adjust this value to control how often done() returns True\n",
        "\n",
        "def done():\n",
        "    return random.random() < DONE_LIKELIHOOD\n",
        "\n",
        "def chaotic_counting():\n",
        "    for i in range(1, 11):\n",
        "        if done():\n",
        "            return\n",
        "        print(i)\n",
        "\n",
        "def main():\n",
        "    print(\"I'm going to count until 10 or until I feel like stopping, whichever comes first.\")\n",
        "    chaotic_counting()\n",
        "    print(\"I'm done.\")\n",
        "\n",
        "main()\n"
      ],
      "metadata": {
        "id": "ycPRr5ZCs0ty"
      },
      "execution_count": null,
      "outputs": []
    },
    {
      "cell_type": "code",
      "source": [
        "# 02_count_even.md\n",
        "\n",
        "def count_even():\n",
        "    lst = []\n",
        "\n",
        "    while True:\n",
        "        user_input = input(\"Enter an integer or press enter to stop: \")\n",
        "        if user_input == \"\":\n",
        "            break\n",
        "        lst.append(int(user_input))\n",
        "\n",
        "    even_count = sum(1 for num in lst if num % 2 == 0)\n",
        "    print(f\"Number of even numbers: {even_count}\")\n",
        "\n",
        "count_even()\n"
      ],
      "metadata": {
        "id": "bmzWKjx1tDZb"
      },
      "execution_count": null,
      "outputs": []
    },
    {
      "cell_type": "code",
      "source": [
        "# 04_double.md\n",
        "\n",
        "def double(num):\n",
        "    return num * 2\n",
        "\n",
        "def main():\n",
        "    num = int(input(\"Enter a number: \"))\n",
        "    print(f\"Double that is {double(num)}\")\n",
        "\n",
        "main()\n"
      ],
      "metadata": {
        "id": "oO0tCQp2tKtB"
      },
      "execution_count": null,
      "outputs": []
    },
    {
      "cell_type": "code",
      "source": [
        "# 05_get_name.md\n",
        "\n",
        "def get_name():\n",
        "    return \"Sophia\"\n",
        "\n",
        "def main():\n",
        "    name = get_name()\n",
        "    print(f\"Howdy {name} ! 🤠\")\n",
        "\n",
        "main()\n"
      ],
      "metadata": {
        "id": "IIq1ECoKtScc"
      },
      "execution_count": null,
      "outputs": []
    },
    {
      "cell_type": "code",
      "source": [
        "# 06_is_odd.md\n",
        "\n",
        "for i in range(10, 20):\n",
        "    if i % 2 == 0:\n",
        "        print(f\"{i} even\", end=\" \")\n",
        "    else:\n",
        "        print(f\"{i} odd\", end=\" \")\n"
      ],
      "metadata": {
        "id": "vCiCDWDqtZlM"
      },
      "execution_count": null,
      "outputs": []
    },
    {
      "cell_type": "code",
      "source": [
        "# 07_print_divisor.md\n",
        "\n",
        "def print_divisors(num):\n",
        "    print(f\"Here are the divisors of {num}\")\n",
        "    for i in range(1, num + 1):\n",
        "        if num % i == 0:\n",
        "            print(i, end=\" \")\n",
        "\n",
        "def main():\n",
        "    num = int(input(\"Enter a number: \"))\n",
        "    print_divisors(num)\n",
        "\n",
        "main()\n"
      ],
      "metadata": {
        "id": "k3BTtbaetg-P"
      },
      "execution_count": null,
      "outputs": []
    },
    {
      "cell_type": "code",
      "source": [
        "# 08_print_multiple.md\n",
        "\n",
        "def print_multiple(message, repeats):\n",
        "    for _ in range(repeats):\n",
        "        print(message)\n",
        "\n",
        "def main():\n",
        "    message = input(\"Please type a message: \")\n",
        "    repeats = int(input(\"Enter a number of times to repeat your message: \"))\n",
        "    print_multiple(message, repeats)\n",
        "\n",
        "main()\n"
      ],
      "metadata": {
        "id": "04MKtaJBtnyM"
      },
      "execution_count": null,
      "outputs": []
    },
    {
      "cell_type": "code",
      "source": [
        "# 09_sentence_generator.md\n",
        "\n",
        "def make_sentence(word, part_of_speech):\n",
        "    if part_of_speech == 0:\n",
        "        print(f\"I am excited to add this {word} to my vast collection of them!\")\n",
        "    elif part_of_speech == 1:\n",
        "        print(f\"It's so nice outside today it makes me want to {word}!\")\n",
        "    elif part_of_speech == 2:\n",
        "        print(f\"Looking out my window, the sky is big and {word}!\")\n",
        "    else:\n",
        "        print(\"Invalid input. Please enter 0, 1, or 2.\")\n",
        "\n",
        "def main():\n",
        "    word = input(\"Please type a noun, verb, or adjective: \")\n",
        "    part_of_speech = int(input(\"Is this a noun, verb, or adjective? Type 0 for noun, 1 for verb, 2 for adjective: \"))\n",
        "    make_sentence(word, part_of_speech)\n",
        "\n",
        "main()\n"
      ],
      "metadata": {
        "id": "AjpoHaiQtvab"
      },
      "execution_count": null,
      "outputs": []
    },
    {
      "cell_type": "code",
      "source": [
        "# 10_print_ones_digit.md\n",
        "\n",
        "def print_ones_digit(num):\n",
        "    ones_digit = num % 10\n",
        "    print(f\"The ones digit is {ones_digit}\")\n",
        "\n",
        "def main():\n",
        "    num = int(input(\"Enter a number: \"))\n",
        "    print_ones_digit(num)\n",
        "\n",
        "main()\n"
      ],
      "metadata": {
        "id": "QbhprEkzt6i3"
      },
      "execution_count": null,
      "outputs": []
    }
  ]
}
