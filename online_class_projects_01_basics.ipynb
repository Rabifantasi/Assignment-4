{
  "nbformat": 4,
  "nbformat_minor": 0,
  "metadata": {
    "colab": {
      "provenance": [],
      "authorship_tag": "ABX9TyOqibj6dv0u2WVEFmni6SLb",
      "include_colab_link": true
    },
    "kernelspec": {
      "name": "python3",
      "display_name": "Python 3"
    },
    "language_info": {
      "name": "python"
    }
  },
  "cells": [
    {
      "cell_type": "markdown",
      "metadata": {
        "id": "view-in-github",
        "colab_type": "text"
      },
      "source": [
        "<a href=\"https://colab.research.google.com/github/Rabifantasi/Assignment-4/blob/main/online_class_projects_01_basics.ipynb\" target=\"_parent\"><img src=\"https://colab.research.google.com/assets/colab-badge.svg\" alt=\"Open In Colab\"/></a>"
      ]
    },
    {
      "cell_type": "code",
      "execution_count": null,
      "metadata": {
        "id": "hhAl5heWv5Gk"
      },
      "outputs": [],
      "source": [
        "# 00_joke_bot.md\n",
        "\n",
        "PROMPT = \"Kya chahiye? \"\n",
        "JOKE = \"Yeh lo ek mazedar joke! Panaversity GPT - Ayesha bazaar ja rahi thi. Ek programmer ne kaha: 1 liter doodh le aana, aur agar anday hon to 12 le lena. Ayesha 13 liter doodh le kar wapas aa gayi. Programmer ne poocha kyun? Ayesha boli: 'kyunki anday thay!'\"\n",
        "SORRY = \"Maaf karna, main sirf jokes sunata hoon.\"\n",
        "\n",
        "def joke_bot():\n",
        "    user_input = input(PROMPT)\n",
        "    if user_input.lower() == \"joke\":\n",
        "        print(JOKE)\n",
        "    else:\n",
        "        print(SORRY)\n",
        "\n",
        "joke_bot()"
      ]
    },
    {
      "cell_type": "code",
      "source": [
        "# 01_double_it.md\n",
        "\n",
        "num = int(input(\"Enter a number: \"))\n",
        "\n",
        "while num < 100:\n",
        "    num *= 2\n",
        "    print(num, end=\" \")\n"
      ],
      "metadata": {
        "id": "Uid_GNSuwTda"
      },
      "execution_count": null,
      "outputs": []
    },
    {
      "cell_type": "code",
      "source": [
        "# 02_liftoff.md\n",
        "\n",
        "for i in range(10, 0, -1):\n",
        "    print(i, end=\" \")\n",
        "\n",
        "print(\"Liftoff!\")\n"
      ],
      "metadata": {
        "id": "a8ExX56TwfFs"
      },
      "execution_count": null,
      "outputs": []
    },
    {
      "cell_type": "code",
      "source": [
        "# 03_guess_my_number.md\n",
        "\n",
        "import random\n",
        "\n",
        "secret_number = random.randint(0, 99)\n",
        "\n",
        "print(\"I am thinking of a number between 0 and 99...\")\n",
        "\n",
        "while True:\n",
        "    guess = int(input(\"Enter a guess: \"))\n",
        "\n",
        "    if guess < secret_number:\n",
        "        print(\"Your guess is too low\")\n",
        "    elif guess > secret_number:\n",
        "        print(\"Your guess is too high\")\n",
        "    else:\n",
        "        print(f\"Congrats! The number was: {secret_number}\")\n",
        "        break\n"
      ],
      "metadata": {
        "id": "EY3x0Q2AwmwR"
      },
      "execution_count": null,
      "outputs": []
    },
    {
      "cell_type": "code",
      "source": [
        "# 04_random_numbers.md\n",
        "\n",
        "import random\n",
        "\n",
        "for _ in range(10):\n",
        "    print(random.randint(1, 100), end=\" \")\n",
        "\n",
        "print()\n"
      ],
      "metadata": {
        "id": "NpwpoX_-wvWe"
      },
      "execution_count": null,
      "outputs": []
    }
  ]
}