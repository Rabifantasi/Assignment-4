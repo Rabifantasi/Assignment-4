{
  "nbformat": 4,
  "nbformat_minor": 0,
  "metadata": {
    "colab": {
      "provenance": [],
      "authorship_tag": "ABX9TyPl7kBoZECLHfu4QYEH+NZC",
      "include_colab_link": true
    },
    "kernelspec": {
      "name": "python3",
      "display_name": "Python 3"
    },
    "language_info": {
      "name": "python"
    }
  },
  "cells": [
    {
      "cell_type": "markdown",
      "metadata": {
        "id": "view-in-github",
        "colab_type": "text"
      },
      "source": [
        "<a href=\"https://colab.research.google.com/github/Rabifantasi/Assignment-4/blob/main/04_dictionaries.ipynb\" target=\"_parent\"><img src=\"https://colab.research.google.com/assets/colab-badge.svg\" alt=\"Open In Colab\"/></a>"
      ]
    },
    {
      "cell_type": "code",
      "execution_count": null,
      "metadata": {
        "id": "SATySmfoB-Zz"
      },
      "outputs": [],
      "source": [
        "# 00_count_nums.md\n",
        "\n",
        "count_dict = {}\n",
        "\n",
        "while True:\n",
        "    num = input(\"Enter a number: \")\n",
        "    if num == \"\":\n",
        "        break\n",
        "    num = int(num)\n",
        "\n",
        "    if num in count_dict:\n",
        "        count_dict[num] += 1\n",
        "    else:\n",
        "        count_dict[num] = 1\n",
        "\n",
        "for key, value in count_dict.items():\n",
        "    print(f\"{key} appears {value} times.\")"
      ]
    },
    {
      "cell_type": "code",
      "source": [
        "# 01_phonebook.md\n",
        "\n",
        "# example\n",
        "\n",
        "phonebook = {}\n",
        "\n",
        "while True:\n",
        "    name = input(\"Enter a name (or press Enter to stop): \")\n",
        "    if name == \"\":\n",
        "        break\n",
        "    number = input(f\"Enter the phone number for {name}: \")\n",
        "    phonebook[name] = number\n",
        "\n",
        "print(\"\\nPhonebook:\")\n",
        "for name, number in phonebook.items():\n",
        "    print(f\"{name}: {number}\")\n"
      ],
      "metadata": {
        "id": "xCzQFTTWqNIF"
      },
      "execution_count": null,
      "outputs": []
    },
    {
      "cell_type": "code",
      "source": [
        "# 02_pop_up_shop.md\n",
        "\n",
        "fruit_prices = {\n",
        "    \"apple\": 5.0,\n",
        "    \"durian\": 15.0,\n",
        "    \"jackfruit\": 10.0,\n",
        "    \"kiwi\": 7.5,\n",
        "    \"rambutan\": 3.0,\n",
        "    \"mango\": 8.5\n",
        "}\n",
        "\n",
        "total_cost = 0\n",
        "\n",
        "for fruit, price in fruit_prices.items():\n",
        "    quantity = int(input(f\"How many ({fruit}) do you want?: \"))\n",
        "    total_cost += quantity * price\n",
        "\n",
        "print(f\"\\nYour total is ${total_cost:.2f}\")\n"
      ],
      "metadata": {
        "id": "Ao-Uo2VlrAQW"
      },
      "execution_count": null,
      "outputs": []
    },
    {
      "cell_type": "code",
      "source": [
        "# 03_powerful_passwords.md\n",
        "\n",
        "import hashlib\n",
        "\n",
        "def hash_password(password):\n",
        "    return hashlib.sha256(password.encode()).hexdigest()\n",
        "\n",
        "def login(email, password_to_check, stored_logins):\n",
        "    return stored_logins.get(email) == hash_password(password_to_check)\n",
        "\n",
        "# Example usage\n",
        "stored_logins = {\n",
        "    \"user@example.com\": hash_password(\"securepassword\"),\n",
        "    \"test@site.com\": hash_password(\"mypassword123\")\n",
        "}\n",
        "\n",
        "email = input(\"Enter your email: \")\n",
        "password = input(\"Enter your password: \")\n",
        "\n",
        "if login(email, password, stored_logins):\n",
        "    print(\"Login successful!\")\n",
        "else:\n",
        "    print(\"Invalid email or password.\")\n"
      ],
      "metadata": {
        "id": "eDDF3lNorKfY"
      },
      "execution_count": null,
      "outputs": []
    }
  ]
}