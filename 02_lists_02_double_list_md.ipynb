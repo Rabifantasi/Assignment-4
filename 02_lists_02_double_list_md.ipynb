{
  "nbformat": 4,
  "nbformat_minor": 0,
  "metadata": {
    "colab": {
      "provenance": [],
      "authorship_tag": "ABX9TyPkFsnKRMgyBdJYP8hN7Oyd",
      "include_colab_link": true
    },
    "kernelspec": {
      "name": "python3",
      "display_name": "Python 3"
    },
    "language_info": {
      "name": "python"
    }
  },
  "cells": [
    {
      "cell_type": "markdown",
      "metadata": {
        "id": "view-in-github",
        "colab_type": "text"
      },
      "source": [
        "<a href=\"https://colab.research.google.com/github/Rabifantasi/Assignment-4/blob/main/02_lists_02_double_list_md.ipynb\" target=\"_parent\"><img src=\"https://colab.research.google.com/assets/colab-badge.svg\" alt=\"Open In Colab\"/></a>"
      ]
    },
    {
      "cell_type": "code",
      "execution_count": null,
      "metadata": {
        "id": "bLmL-4Vgko6r"
      },
      "outputs": [],
      "source": [
        "numbers = [1, 2, 3, 4]\n",
        "\n",
        "doubled_numbers = [num * 2 for num in numbers]\n",
        "\n",
        "print(doubled_numbers)"
      ]
    }
  ]
}