{
  "nbformat": 4,
  "nbformat_minor": 0,
  "metadata": {
    "colab": {
      "provenance": [],
      "authorship_tag": "ABX9TyMlx1wiQTxf0H789emLOoBT",
      "include_colab_link": true
    },
    "kernelspec": {
      "name": "python3",
      "display_name": "Python 3"
    },
    "language_info": {
      "name": "python"
    }
  },
  "cells": [
    {
      "cell_type": "markdown",
      "metadata": {
        "id": "view-in-github",
        "colab_type": "text"
      },
      "source": [
        "<a href=\"https://colab.research.google.com/github/Rabifantasi/Assignment-4/blob/main/00_intro_python_01_add_two_numbers_md.ipynb\" target=\"_parent\"><img src=\"https://colab.research.google.com/assets/colab-badge.svg\" alt=\"Open In Colab\"/></a>"
      ]
    },
    {
      "cell_type": "code",
      "execution_count": null,
      "metadata": {
        "id": "1vJBCisZdpZZ"
      },
      "outputs": [],
      "source": [
        "def main():\n",
        "    first_number = input(\"Enter the first number: \")\n",
        "    first_number = int(first_number)\n",
        "\n",
        "    second_number = input(\"Enter the second number: \")\n",
        "    second_number = int(second_number)\n",
        "\n",
        "    total = first_number + second_number\n",
        "\n",
        "    print(\"The sum of\", first_number, \"and\", second_number, \"is\", total)\n",
        "\n",
        "main()"
      ]
    }
  ]
}