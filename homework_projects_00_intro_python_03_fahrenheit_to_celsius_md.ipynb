{
  "nbformat": 4,
  "nbformat_minor": 0,
  "metadata": {
    "colab": {
      "provenance": [],
      "authorship_tag": "ABX9TyMG7Ud156VsLVkyZQU97QV2",
      "include_colab_link": true
    },
    "kernelspec": {
      "name": "python3",
      "display_name": "Python 3"
    },
    "language_info": {
      "name": "python"
    }
  },
  "cells": [
    {
      "cell_type": "markdown",
      "metadata": {
        "id": "view-in-github",
        "colab_type": "text"
      },
      "source": [
        "<a href=\"https://colab.research.google.com/github/Rabifantasi/Assignment-4/blob/main/00_intro_python_03_fahrenheit_to_celsius_md.ipynb\" target=\"_parent\"><img src=\"https://colab.research.google.com/assets/colab-badge.svg\" alt=\"Open In Colab\"/></a>"
      ]
    },
    {
      "cell_type": "code",
      "execution_count": null,
      "metadata": {
        "id": "Q4BJoW0Tf7bM"
      },
      "outputs": [],
      "source": [
        "fahrenheit = float(input(\"Enter temperature in Fahrenheit: \"))\n",
        "\n",
        "celsius = (fahrenheit - 32) * 5.0 / 9.0\n",
        "\n",
        "print(f\"Temperature: {fahrenheit}F = {celsius}C\")"
      ]
    }
  ]
}
