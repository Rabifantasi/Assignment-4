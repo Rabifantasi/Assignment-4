{
  "nbformat": 4,
  "nbformat_minor": 0,
  "metadata": {
    "colab": {
      "provenance": [],
      "authorship_tag": "ABX9TyPTvDCLokh5+rfYMKbImDvS",
      "include_colab_link": true
    },
    "kernelspec": {
      "name": "python3",
      "display_name": "Python 3"
    },
    "language_info": {
      "name": "python"
    }
  },
  "cells": [
    {
      "cell_type": "markdown",
      "metadata": {
        "id": "view-in-github",
        "colab_type": "text"
      },
      "source": [
        "<a href=\"https://colab.research.google.com/github/Rabifantasi/Assignment-4/blob/main/07_information_flow.ipynb\" target=\"_parent\"><img src=\"https://colab.research.google.com/assets/colab-badge.svg\" alt=\"Open In Colab\"/></a>"
      ]
    },
    {
      "cell_type": "code",
      "execution_count": null,
      "metadata": {
        "id": "5BHnbQQ5uKsp"
      },
      "outputs": [],
      "source": [
        "# 0_choosing_returns.md\n",
        "\n",
        "ADULT_AGE = 18\n",
        "\n",
        "def is_adult(age):\n",
        "    return age >= ADULT_AGE\n",
        "\n",
        "def main():\n",
        "    age = int(input(\"How old is this person?: \"))\n",
        "    print(is_adult(age))\n",
        "\n",
        "main()\n"
      ]
    },
    {
      "cell_type": "code",
      "source": [
        "# 01_greetings.md\n",
        "\n",
        "def greet(name):\n",
        "    print(f\"Greetings {name}!\")\n",
        "\n",
        "def main():\n",
        "    name = input(\"What's your name? \")\n",
        "    greet(name)\n",
        "\n",
        "main()\n"
      ],
      "metadata": {
        "id": "iSdWeQAMuS-C"
      },
      "execution_count": null,
      "outputs": []
    },
    {
      "cell_type": "code",
      "source": [
        "# 02_in_range.md\n",
        "\n",
        "def in_range(n, low, high):\n",
        "    \"\"\"Returns True if n is between low and high, inclusive.\"\"\"\n",
        "    return low <= n <= high\n",
        "\n",
        "# Example usage\n",
        "print(in_range(5, 1, 10))  # True\n",
        "print(in_range(15, 1, 10)) # False\n"
      ],
      "metadata": {
        "id": "P6RKyhELua84"
      },
      "execution_count": null,
      "outputs": []
    },
    {
      "cell_type": "code",
      "source": [
        "# 03_in_stock.md\n",
        "\n",
        "inventory = {\n",
        "    \"apple\": 50,\n",
        "    \"banana\": 30,\n",
        "    \"orange\": 20,\n",
        "    \"pear\": 1000,\n",
        "    \"grape\": 75\n",
        "}\n",
        "\n",
        "def num_in_stock(fruit):\n",
        "    return inventory.get(fruit, 0)\n",
        "\n",
        "def main():\n",
        "    fruit = input(\"Enter a fruit: \").strip().lower()\n",
        "    count = num_in_stock(fruit)\n",
        "\n",
        "    if count > 0:\n",
        "        print(\"This fruit is in stock! Here is how many:\")\n",
        "        print(count)\n",
        "    else:\n",
        "        print(\"This fruit is not in stock.\")\n",
        "\n",
        "main()\n"
      ],
      "metadata": {
        "id": "t8DN1lhpujHT"
      },
      "execution_count": null,
      "outputs": []
    },
    {
      "cell_type": "code",
      "source": [
        "# 4_multiple_returns.md\n",
        "\n",
        "def get_user_data():\n",
        "    first_name = input(\"What is your first name?: \")\n",
        "    last_name = input(\"What is your last name?: \")\n",
        "    email = input(\"What is your email address?: \")\n",
        "    return first_name, last_name, email\n",
        "\n",
        "def main():\n",
        "    user_data = get_user_data()\n",
        "    print(\"Received the following user data:\", user_data)\n",
        "\n",
        "main()\n"
      ],
      "metadata": {
        "id": "epWADTp5uzIh"
      },
      "execution_count": null,
      "outputs": []
    },
    {
      "cell_type": "code",
      "source": [
        "# 05_subtract_7.md\n",
        "\n",
        "def subtract_seven(num):\n",
        "    return num - 7\n",
        "\n",
        "def main():\n",
        "    number = int(input(\"Enter a number: \"))\n",
        "    result = subtract_seven(number)\n",
        "    print(\"Result after subtracting 7:\", result)\n",
        "\n",
        "main()\n"
      ],
      "metadata": {
        "id": "GtPZr-Ybu4uW"
      },
      "execution_count": null,
      "outputs": []
    }
  ]
}
