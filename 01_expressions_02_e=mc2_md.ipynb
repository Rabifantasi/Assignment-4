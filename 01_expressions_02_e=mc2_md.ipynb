{
  "nbformat": 4,
  "nbformat_minor": 0,
  "metadata": {
    "colab": {
      "provenance": [],
      "authorship_tag": "ABX9TyOgrjB5L+UuRKfIVO8azWOA",
      "include_colab_link": true
    },
    "kernelspec": {
      "name": "python3",
      "display_name": "Python 3"
    },
    "language_info": {
      "name": "python"
    }
  },
  "cells": [
    {
      "cell_type": "markdown",
      "metadata": {
        "id": "view-in-github",
        "colab_type": "text"
      },
      "source": [
        "<a href=\"https://colab.research.google.com/github/Rabifantasi/Assignment-4/blob/main/01_expressions_02_e%3Dmc2_md.ipynb\" target=\"_parent\"><img src=\"https://colab.research.google.com/assets/colab-badge.svg\" alt=\"Open In Colab\"/></a>"
      ]
    },
    {
      "cell_type": "code",
      "execution_count": null,
      "metadata": {
        "id": "MQQMWPSgiGhx"
      },
      "outputs": [],
      "source": [
        "C = 299792458\n",
        "\n",
        "while True:\n",
        "    m = float(input(\"Enter kilos of mass: \"))\n",
        "    E = m * C**2\n",
        "    print(\"\\ne = m * C^2...\\n\")\n",
        "    print(f\"m = {m} kg\")\n",
        "    print(f\"C = {C} m/s\\n\")\n",
        "    print(f\"{E} joules of energy!\\n\")\n"
      ]
    }
  ]
}