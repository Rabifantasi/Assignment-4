{
  "nbformat": 4,
  "nbformat_minor": 0,
  "metadata": {
    "colab": {
      "provenance": [],
      "authorship_tag": "ABX9TyMevGEcxWw+Alm8xk6w/OwC",
      "include_colab_link": true
    },
    "kernelspec": {
      "name": "python3",
      "display_name": "Python 3"
    },
    "language_info": {
      "name": "python"
    }
  },
  "cells": [
    {
      "cell_type": "markdown",
      "metadata": {
        "id": "view-in-github",
        "colab_type": "text"
      },
      "source": [
        "<a href=\"https://colab.research.google.com/github/Rabifantasi/Assignment-4/blob/main/05_get_first_element_md.ipynb\" target=\"_parent\"><img src=\"https://colab.research.google.com/assets/colab-badge.svg\" alt=\"Open In Colab\"/></a>"
      ]
    },
    {
      "cell_type": "code",
      "execution_count": null,
      "metadata": {
        "id": "o2tD9tJ8-K7I"
      },
      "outputs": [],
      "source": [
        "def get_first_element(lst):\n",
        "    print(lst[0])\n",
        "\n",
        "n = int(input(\"How many elements? \"))\n",
        "user_list = [input(\"Enter element: \") for _ in range(n)]\n",
        "\n",
        "get_first_element(user_list)"
      ]
    }
  ]
}
