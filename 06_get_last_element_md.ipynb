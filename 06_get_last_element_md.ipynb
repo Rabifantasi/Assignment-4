{
  "nbformat": 4,
  "nbformat_minor": 0,
  "metadata": {
    "colab": {
      "provenance": [],
      "authorship_tag": "ABX9TyPKvcInzgiCeQnQkPQbFVRl",
      "include_colab_link": true
    },
    "kernelspec": {
      "name": "python3",
      "display_name": "Python 3"
    },
    "language_info": {
      "name": "python"
    }
  },
  "cells": [
    {
      "cell_type": "markdown",
      "metadata": {
        "id": "view-in-github",
        "colab_type": "text"
      },
      "source": [
        "<a href=\"https://colab.research.google.com/github/Rabifantasi/Assignment-4/blob/main/06_get_last_element_md.ipynb\" target=\"_parent\"><img src=\"https://colab.research.google.com/assets/colab-badge.svg\" alt=\"Open In Colab\"/></a>"
      ]
    },
    {
      "cell_type": "code",
      "execution_count": null,
      "metadata": {
        "id": "csJ8Mav0-0s7"
      },
      "outputs": [],
      "source": [
        "def get_last_element(lst):\n",
        "    print(lst[-1])\n",
        "\n",
        "n = int(input(\"How many elements? \"))\n",
        "user_list = [input(\"Enter element: \") for _ in range(n)]\n",
        "\n",
        "get_last_element(user_list)"
      ]
    }
  ]
}